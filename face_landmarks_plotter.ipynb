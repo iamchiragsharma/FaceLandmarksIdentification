{
 "cells": [
  {
   "cell_type": "code",
   "execution_count": 6,
   "metadata": {},
   "outputs": [],
   "source": [
    "from collections import OrderedDict\n",
    "import numpy as np\n",
    "import cv2\n",
    "import dlib"
   ]
  },
  {
   "cell_type": "code",
   "execution_count": 7,
   "metadata": {},
   "outputs": [],
   "source": [
    "# landmarks to specific face regions\n",
    "#mouth, (48, 68)\n",
    "#right_eyebrow, (17, 22)\n",
    "#left_eyebrow, (22, 27)\n",
    "#right_eye, (36, 42)\n",
    "#left_eye, (42, 48)\n",
    "#nose, (27, 36)\n",
    "#jaw, (0, 17)"
   ]
  },
  {
   "cell_type": "code",
   "execution_count": 8,
   "metadata": {},
   "outputs": [],
   "source": [
    "detector = dlib.get_frontal_face_detector()\n",
    "predictor = dlib.shape_predictor(\"shape_predictor_68_face_landmarks.dat\")"
   ]
  },
  {
   "cell_type": "code",
   "execution_count": 9,
   "metadata": {},
   "outputs": [],
   "source": [
    "def face_landmarks(frame):\n",
    "    #gray = cv2.cvtColor(image, cv2.COLOR_BGR2GRAY)\n",
    "\n",
    "    # detect faces in the grayscale image\n",
    "    rects = detector(frame, 1)\n",
    "    canvas = np.zeros((frame.shape[0],frame.shape[1],3))\n",
    "    for (i,rect) in enumerate(rects):\n",
    "        shape = predictor(frame,rect)\n",
    "        vals = np.array([(shape.part(i).x,shape.part(i).y) for i in range(0,68)])\n",
    "        for (x,y) in vals:\n",
    "            cv2.circle(canvas,(x,y),1,(0,255,0),-1)\n",
    "    return canvas"
   ]
  },
  {
   "cell_type": "code",
   "execution_count": 10,
   "metadata": {},
   "outputs": [],
   "source": [
    "cap = cv2.VideoCapture(0)\n",
    "\n",
    "while(True):\n",
    "    # Capture frame-by-frame\n",
    "    ret, frame = cap.read()\n",
    "\n",
    "    # Our operations on the frame come here\n",
    "    #gray = cv2.cvtColor(frame) #cv2.COLOR_BGR2GRAY)\n",
    "    face_marks = face_landmarks(frame)\n",
    "    #sections_combined =np.concatenate((frame,face_marks),axis=1) #It's not working the camera is not showing the front but the \n",
    "    #value is passing itself right\n",
    "    #To Display Seprately\n",
    "    cv2.imshow('frame',frame)\n",
    "    cv2.imshow('marks',face_marks)\n",
    "    #cv2.imshow(\"Watch This\",sections_combined)\n",
    "    if cv2.waitKey(1) & 0xFF == ord('q'):\n",
    "        break\n",
    "\n",
    "cap.release()\n",
    "cv2.destroyAllWindows()"
   ]
  },
  {
   "cell_type": "code",
   "execution_count": 3,
   "metadata": {},
   "outputs": [],
   "source": [
    "#This Works but hangs very fast\n",
    "# cap = cv2.VideoCapture(0)\n",
    "# while(True):\n",
    "#     # Capture frame-by-frame\n",
    "#     ret, frame = cap.read()\n",
    "\n",
    "#     # Our operations on the frame come here\n",
    "#     #gray = cv2.cvtColor(frame) #cv2.COLOR_BGR2GRAY)\n",
    "#     sections_combined =np.concatenate((frame,frame),axis=1) #It's not working the camera is not showing the front but the \n",
    "\n",
    "#     cv2.imshow(\"Watch This\",sections_combined)\n",
    "#     if cv2.waitKey(1) & 0xFF == ord('q'):\n",
    "#         break"
   ]
  },
  {
   "cell_type": "code",
   "execution_count": null,
   "metadata": {},
   "outputs": [],
   "source": []
  }
 ],
 "metadata": {
  "kernelspec": {
   "display_name": "Python 3",
   "language": "python",
   "name": "python3"
  },
  "language_info": {
   "codemirror_mode": {
    "name": "ipython",
    "version": 3
   },
   "file_extension": ".py",
   "mimetype": "text/x-python",
   "name": "python",
   "nbconvert_exporter": "python",
   "pygments_lexer": "ipython3",
   "version": "3.6.8"
  }
 },
 "nbformat": 4,
 "nbformat_minor": 4
}
