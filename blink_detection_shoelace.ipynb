{
 "cells": [
  {
   "cell_type": "code",
   "execution_count": 1,
   "metadata": {},
   "outputs": [],
   "source": [
    "from collections import OrderedDict\n",
    "import numpy as np\n",
    "import cv2\n",
    "import dlib"
   ]
  },
  {
   "cell_type": "code",
   "execution_count": 17,
   "metadata": {},
   "outputs": [],
   "source": [
    "#Smile Detection using the Shoe Lace Area Concept\n",
    "#First Find the coordinates of closed polygon that is your mouth\n",
    "#Calculate the General area of your face by using webcam and displaying area of mouth.\n",
    "#Now you have general idea of mouth area go createa condition.\n",
    "#Code\n",
    "#First the polygon_area function will only work on the dlib points\n",
    "#dlib points will only be create with dlib point\n",
    "#so you have to do both of the steps\n",
    "\n",
    "detector = dlib.get_frontal_face_detector()\n",
    "predictor = dlib.shape_predictor(\"shape_predictor_68_face_landmarks.dat\")\n",
    "left_dlib = dlib.dpoints()\n",
    "right_dlib = dlib.dpoints()\n",
    "def face_landmarks(frame):\n",
    "    rects = detector(frame, 1)\n",
    "    canvas = np.zeros((frame.shape[0],frame.shape[1],3))\n",
    "    for (i,rect) in enumerate(rects):\n",
    "        shape = predictor(frame,rect)\n",
    "        vals = np.array([(shape.part(i).x,shape.part(i).y) for i in range(0,68)])\n",
    "    left_eye = [(vals[i][0],vals[i][1]) for i in range(36,42)]\n",
    "    right_eye = [(vals[i][0],vals[i][1]) for i in range(42,48)]\n",
    "    for left in left_eye:\n",
    "        left_dlib.append(dlib.dpoint(left[0],left[1])) #Converting to dlib point automatically becomes dlib points\n",
    "    for right in right_eye:\n",
    "        right_dlib.append(dlib.dpoint(right[0],right[1])) #Converting to dlib point automatically becomes dlib points\n",
    "    #print(\"Left Area : {}    Right Area : {}\" .format(dlib.polygon_area(left_dlib),dlib.polygon_area(right_dlib)))\n",
    "    left_area = dlib.polygon_area(left_dlib)\n",
    "    right_area = dlib.polygon_area(right_dlib)\n",
    "    eyes = np.concatenate((left_eye,right_eye))\n",
    "    if left_area + right_area < 200:\n",
    "        for (x,y) in eyes:\n",
    "            cv2.circle(canvas,(x,y),1,(0,255,0),-1)\n",
    "    else:\n",
    "        for i in range(36,48):\n",
    "            cv2.circle(canvas, (vals[i][0],vals[i][1]),1,(0,0,255),-1)\n",
    "    left_dlib.clear()\n",
    "    right_dlib.clear()\n",
    "    return canvas"
   ]
  },
  {
   "cell_type": "code",
   "execution_count": 18,
   "metadata": {},
   "outputs": [],
   "source": [
    "cap = cv2.VideoCapture(0)\n",
    "\n",
    "while(True):\n",
    "    # Capture frame-by-frame\n",
    "    ret, frame = cap.read()\n",
    "    face_marks = face_landmarks(frame)\n",
    "    cv2.imshow('frame',frame)\n",
    "    cv2.imshow('marks',face_marks)\n",
    "    #cv2.imshow(\"Watch This\",sections_combined)\n",
    "    if cv2.waitKey(1) & 0xFF == ord('q'):\n",
    "        break\n",
    "\n",
    "cap.release()\n",
    "cv2.destroyAllWindows()"
   ]
  },
  {
   "cell_type": "code",
   "execution_count": 10,
   "metadata": {},
   "outputs": [],
   "source": [
    "x = np.array([[1,2]])\n",
    "y = np.array([[3,4]])\n",
    "z = np.concatenate((x,y))"
   ]
  },
  {
   "cell_type": "code",
   "execution_count": 11,
   "metadata": {},
   "outputs": [
    {
     "data": {
      "text/plain": [
       "array([[1, 2],\n",
       "       [3, 4]])"
      ]
     },
     "execution_count": 11,
     "metadata": {},
     "output_type": "execute_result"
    }
   ],
   "source": [
    "z"
   ]
  },
  {
   "cell_type": "code",
   "execution_count": null,
   "metadata": {},
   "outputs": [],
   "source": []
  }
 ],
 "metadata": {
  "kernelspec": {
   "display_name": "Python 3",
   "language": "python",
   "name": "python3"
  },
  "language_info": {
   "codemirror_mode": {
    "name": "ipython",
    "version": 3
   },
   "file_extension": ".py",
   "mimetype": "text/x-python",
   "name": "python",
   "nbconvert_exporter": "python",
   "pygments_lexer": "ipython3",
   "version": "3.6.8"
  }
 },
 "nbformat": 4,
 "nbformat_minor": 4
}
